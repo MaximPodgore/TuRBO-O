{
 "cells": [
  {
   "cell_type": "code",
   "execution_count": 1,
   "metadata": {},
   "outputs": [],
   "source": [
    "from turbo import TurboM\n",
    "from turbo.turbo_dkl_full_kernel import TurboDKLFullKernel\n",
    "import numpy as np\n",
    "import torch\n",
    "import math\n",
    "import matplotlib\n",
    "import matplotlib.pyplot as plt"
   ]
  },
  {
   "cell_type": "markdown",
   "metadata": {},
   "source": [
    "## Set up an optimization problem class"
   ]
  },
  {
   "cell_type": "code",
   "execution_count": 2,
   "metadata": {},
   "outputs": [],
   "source": [
    "class Levy:\n",
    "    def __init__(self, dim=10):\n",
    "        self.dim = dim\n",
    "        self.lb = -5 * np.ones(dim)\n",
    "        self.ub = 10 * np.ones(dim)\n",
    "        \n",
    "    def __call__(self, x):\n",
    "        assert len(x) == self.dim\n",
    "        assert x.ndim == 1\n",
    "        assert np.all(x <= self.ub) and np.all(x >= self.lb)\n",
    "        w = 1 + (x - 1.0) / 4.0\n",
    "        val = np.sin(np.pi * w[0]) ** 2 + \\\n",
    "            np.sum((w[1:self.dim - 1] - 1) ** 2 * (1 + 10 * np.sin(np.pi * w[1:self.dim - 1] + 1) ** 2)) + \\\n",
    "            (w[self.dim - 1] - 1) ** 2 * (1 + np.sin(2 * np.pi * w[self.dim - 1])**2)\n",
    "        return val\n",
    "\n",
    "f = Levy(10)"
   ]
  },
  {
   "cell_type": "markdown",
   "metadata": {},
   "source": [
    "## Create a Turbo optimizer instance\n"
   ]
  },
  {
   "cell_type": "code",
   "execution_count": 3,
   "metadata": {},
   "outputs": [
    {
     "name": "stdout",
     "output_type": "stream",
     "text": [
      "Using dtype = torch.float64 \n",
      "Using device = cpu\n"
     ]
    }
   ],
   "source": [
    "turbo_dkl_full_kernel = TurboDKLFullKernel(\n",
    "    f=f,  # Handle to objective function\n",
    "    lb=f.lb,  # Numpy array specifying lower bounds\n",
    "    ub=f.ub,  # Numpy array specifying upper bounds\n",
    "    n_init=10,  # Number of initial bounds from an Symmetric Latin hypercube design\n",
    "    max_evals=1000,  # Maximum number of evaluations\n",
    "    n_trust_regions=5,  # Number of trust regions\n",
    "    batch_size=10,  # How large batch size TuRBO uses\n",
    "    verbose=True,  # Print information from each batch\n",
    "    use_ard=True,  # Set to true if you want to use ARD for the GP kernel\n",
    "    max_cholesky_size=2000,  # When we switch from Cholesky to Lanczos\n",
    "    n_training_steps=50,  # Number of steps of ADAM to learn the hypers\n",
    "    min_cuda=1024,  # Run on the CPU for small datasets\n",
    "    device=\"cpu\",  # \"cpu\" or \"cuda\"\n",
    "    dtype=\"float64\",  # float64 or float32\n",
    ")"
   ]
  },
  {
   "cell_type": "markdown",
   "metadata": {},
   "source": [
    "# Run the optimization process"
   ]
  },
  {
   "cell_type": "code",
   "execution_count": 4,
   "metadata": {},
   "outputs": [
    {
     "name": "stdout",
     "output_type": "stream",
     "text": [
      "TR-0 starting from: 16.6\n",
      "TR-1 starting from: 34.97\n",
      "TR-2 starting from: 28.67\n",
      "TR-3 starting from: 37.3\n",
      "TR-4 starting from: 20.62\n"
     ]
    },
    {
     "name": "stderr",
     "output_type": "stream",
     "text": [
      "c:\\Users\\maxim\\anaconda3\\envs\\turbo-O\\lib\\site-packages\\linear_operator\\utils\\cholesky.py:40: NumericalWarning: A not p.d., added jitter of 1.0e-08 to the diagonal\n",
      "  warnings.warn(\n",
      "c:\\Users\\maxim\\anaconda3\\envs\\turbo-O\\lib\\site-packages\\linear_operator\\utils\\cholesky.py:40: NumericalWarning: A not p.d., added jitter of 1.0e-07 to the diagonal\n",
      "  warnings.warn(\n",
      "c:\\Users\\maxim\\anaconda3\\envs\\turbo-O\\lib\\site-packages\\linear_operator\\utils\\cholesky.py:40: NumericalWarning: A not p.d., added jitter of 1.0e-06 to the diagonal\n",
      "  warnings.warn(\n",
      "c:\\Users\\maxim\\anaconda3\\envs\\turbo-O\\lib\\site-packages\\linear_operator\\operators\\_linear_operator.py:2163: NumericalWarning: Runtime Error when computing Cholesky decomposition: Matrix not positive definite after repeatedly adding jitter up to 1.0e-06.. Using symeig method.\n",
      "  warnings.warn(\n"
     ]
    },
    {
     "name": "stdout",
     "output_type": "stream",
     "text": [
      "70) New best @ TR-4: 15.36\n",
      "80) New best @ TR-4: 10.25\n",
      "90) New best @ TR-4: 4.556\n",
      "110) New best @ TR-4: 3.148\n",
      "140) New best @ TR-4: 2.147\n",
      "150) New best @ TR-4: 1.61\n",
      "160) New best @ TR-4: 1.42\n",
      "190) New best @ TR-4: 1.413\n",
      "200) New best @ TR-4: 1.108\n",
      "210) New best @ TR-4: 0.934\n",
      "230) New best @ TR-4: 0.8295\n",
      "260) New best @ TR-4: 0.7994\n",
      "270) New best @ TR-4: 0.7843\n",
      "280) New best @ TR-4: 0.7721\n",
      "290) New best @ TR-4: 0.7347\n",
      "300) New best @ TR-4: 0.7278\n",
      "320) New best @ TR-4: 0.6885\n",
      "330) New best @ TR-4: 0.6839\n",
      "340) New best @ TR-4: 0.6608\n",
      "360) New best @ TR-4: 0.6544\n",
      "370) New best @ TR-4: 0.6467\n",
      "380) New best @ TR-4: 0.6316\n",
      "400) New best @ TR-4: 0.6198\n",
      "410) New best @ TR-4: 0.6059\n",
      "420) New best @ TR-4: 0.5992\n",
      "440) New best @ TR-4: 0.5886\n",
      "450) New best @ TR-4: 0.5761\n",
      "460) New best @ TR-4: 0.5726\n",
      "470) New best @ TR-4: 0.5629\n",
      "490) New best @ TR-4: 0.5555\n",
      "510) TR-4 converged to: : 0.5555\n",
      "510) TR-4 is restarting from: : 23.64\n"
     ]
    }
   ],
   "source": [
    "turbo_dkl_full_kernel.optimize()"
   ]
  },
  {
   "cell_type": "code",
   "execution_count": null,
   "metadata": {},
   "outputs": [],
   "source": []
  }
 ],
 "metadata": {
  "kernelspec": {
   "display_name": "turbo-O",
   "language": "python",
   "name": "python3"
  },
  "language_info": {
   "codemirror_mode": {
    "name": "ipython",
    "version": 3
   },
   "file_extension": ".py",
   "mimetype": "text/x-python",
   "name": "python",
   "nbconvert_exporter": "python",
   "pygments_lexer": "ipython3",
   "version": "3.10.16"
  }
 },
 "nbformat": 4,
 "nbformat_minor": 2
}
