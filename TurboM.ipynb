{
 "cells": [
  {
   "cell_type": "code",
   "execution_count": 1,
   "metadata": {},
   "outputs": [],
   "source": [
    "from turbo import TurboM\n",
    "import numpy as np\n",
    "import torch\n",
    "import math\n",
    "import matplotlib\n",
    "import matplotlib.pyplot as plt"
   ]
  },
  {
   "cell_type": "markdown",
   "metadata": {},
   "source": [
    "## Set up an optimization problem class"
   ]
  },
  {
   "cell_type": "code",
   "execution_count": 2,
   "metadata": {},
   "outputs": [],
   "source": [
    "class Levy:\n",
    "    def __init__(self, dim=10):\n",
    "        self.dim = dim\n",
    "        self.lb = -5 * np.ones(dim)\n",
    "        self.ub = 10 * np.ones(dim)\n",
    "        \n",
    "    def __call__(self, x):\n",
    "        assert len(x) == self.dim\n",
    "        assert x.ndim == 1\n",
    "        assert np.all(x <= self.ub) and np.all(x >= self.lb)\n",
    "        w = 1 + (x - 1.0) / 4.0\n",
    "        val = np.sin(np.pi * w[0]) ** 2 + \\\n",
    "            np.sum((w[1:self.dim - 1] - 1) ** 2 * (1 + 10 * np.sin(np.pi * w[1:self.dim - 1] + 1) ** 2)) + \\\n",
    "            (w[self.dim - 1] - 1) ** 2 * (1 + np.sin(2 * np.pi * w[self.dim - 1])**2)\n",
    "        return val\n",
    "\n",
    "f = Levy(10)"
   ]
  },
  {
   "cell_type": "markdown",
   "metadata": {},
   "source": [
    "## Create a Turbo optimizer instance\n"
   ]
  },
  {
   "cell_type": "code",
   "execution_count": 3,
   "metadata": {},
   "outputs": [
    {
     "name": "stdout",
     "output_type": "stream",
     "text": [
      "Using dtype = torch.float64 \n",
      "Using device = cpu\n"
     ]
    }
   ],
   "source": [
    "turbo_m = TurboM(\n",
    "    f=f,  # Handle to objective function\n",
    "    lb=f.lb,  # Numpy array specifying lower bounds\n",
    "    ub=f.ub,  # Numpy array specifying upper bounds\n",
    "    n_init=10,  # Number of initial bounds from an Symmetric Latin hypercube design\n",
    "    max_evals=1000,  # Maximum number of evaluations\n",
    "    n_trust_regions=5,  # Number of trust regions\n",
    "    batch_size=10,  # How large batch size TuRBO uses\n",
    "    verbose=True,  # Print information from each batch\n",
    "    use_ard=True,  # Set to true if you want to use ARD for the GP kernel\n",
    "    max_cholesky_size=2000,  # When we switch from Cholesky to Lanczos\n",
    "    n_training_steps=50,  # Number of steps of ADAM to learn the hypers\n",
    "    min_cuda=1024,  # Run on the CPU for small datasets\n",
    "    device=\"cpu\",  # \"cpu\" or \"cuda\"\n",
    "    dtype=\"float64\",  # float64 or float32\n",
    ")"
   ]
  },
  {
   "cell_type": "markdown",
   "metadata": {},
   "source": [
    "# Run the optimization process"
   ]
  },
  {
   "cell_type": "code",
   "execution_count": 4,
   "metadata": {},
   "outputs": [
    {
     "name": "stdout",
     "output_type": "stream",
     "text": [
      "TR-0 starting from: 28.17\n"
     ]
    },
    {
     "name": "stdout",
     "output_type": "stream",
     "text": [
      "TR-1 starting from: 21.28\n",
      "TR-2 starting from: 20.4\n",
      "TR-3 starting from: 21.98\n",
      "TR-4 starting from: 18.23\n",
      "70) New best @ TR-2: 9.728\n",
      "70) New best @ TR-4: 13.97\n",
      "100) New best @ TR-4: 3.715\n",
      "240) New best @ TR-4: 3.647\n",
      "250) New best @ TR-4: 3.381\n",
      "260) New best @ TR-4: 2.799\n",
      "270) New best @ TR-4: 2.534\n",
      "280) New best @ TR-4: 1.913\n",
      "310) New best @ TR-4: 1.17\n",
      "320) New best @ TR-4: 0.9382\n",
      "340) New best @ TR-4: 0.8492\n",
      "390) New best @ TR-4: 0.7974\n",
      "400) New best @ TR-4: 0.7887\n",
      "420) New best @ TR-4: 0.7864\n",
      "430) New best @ TR-4: 0.7593\n",
      "460) New best @ TR-4: 0.7498\n",
      "500) New best @ TR-4: 0.7388\n",
      "510) New best @ TR-4: 0.7\n",
      "520) New best @ TR-4: 0.6923\n",
      "550) New best @ TR-4: 0.6741\n",
      "580) New best @ TR-4: 0.6639\n",
      "600) New best @ TR-4: 0.6557\n",
      "630) New best @ TR-4: 0.6445\n",
      "660) TR-4 converged to: : 0.6445\n",
      "660) TR-4 is restarting from: : 31.84\n",
      "770) New best @ TR-3: 0.6277\n",
      "790) New best @ TR-3: 0.6144\n",
      "820) TR-3 converged to: : 0.6144\n",
      "820) TR-3 is restarting from: : 32.84\n"
     ]
    }
   ],
   "source": [
    "turbo_m.optimize()"
   ]
  },
  {
   "cell_type": "code",
   "execution_count": null,
   "metadata": {},
   "outputs": [],
   "source": []
  }
 ],
 "metadata": {
  "kernelspec": {
   "display_name": "turbo-O",
   "language": "python",
   "name": "python3"
  },
  "language_info": {
   "codemirror_mode": {
    "name": "ipython",
    "version": 3
   },
   "file_extension": ".py",
   "mimetype": "text/x-python",
   "name": "python",
   "nbconvert_exporter": "python",
   "pygments_lexer": "ipython3",
   "version": "3.10.16"
  }
 },
 "nbformat": 4,
 "nbformat_minor": 2
}
