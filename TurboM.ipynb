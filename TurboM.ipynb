{
 "cells": [
  {
   "cell_type": "code",
   "execution_count": 1,
   "metadata": {},
   "outputs": [],
   "source": [
    "from turbo import TurboM\n",
    "import numpy as np\n",
    "import torch\n",
    "import math\n",
    "import matplotlib\n",
    "import matplotlib.pyplot as plt"
   ]
  },
  {
   "cell_type": "markdown",
   "metadata": {},
   "source": [
    "## Set up an optimization problem class"
   ]
  },
  {
   "cell_type": "code",
   "execution_count": 2,
   "metadata": {},
   "outputs": [],
   "source": [
    "class Levy:\n",
    "    def __init__(self, dim=10):\n",
    "        self.dim = dim\n",
    "        self.lb = -5 * np.ones(dim)\n",
    "        self.ub = 10 * np.ones(dim)\n",
    "        \n",
    "    def __call__(self, x):\n",
    "        assert len(x) == self.dim\n",
    "        assert x.ndim == 1\n",
    "        assert np.all(x <= self.ub) and np.all(x >= self.lb)\n",
    "        w = 1 + (x - 1.0) / 4.0\n",
    "        val = np.sin(np.pi * w[0]) ** 2 + \\\n",
    "            np.sum((w[1:self.dim - 1] - 1) ** 2 * (1 + 10 * np.sin(np.pi * w[1:self.dim - 1] + 1) ** 2)) + \\\n",
    "            (w[self.dim - 1] - 1) ** 2 * (1 + np.sin(2 * np.pi * w[self.dim - 1])**2)\n",
    "        return val\n",
    "\n",
    "f = Levy(10)"
   ]
  },
  {
   "cell_type": "markdown",
   "metadata": {},
   "source": [
    "## Create a Turbo optimizer instance\n"
   ]
  },
  {
   "cell_type": "code",
   "execution_count": 3,
   "metadata": {},
   "outputs": [
    {
     "name": "stdout",
     "output_type": "stream",
     "text": [
      "Using dtype = torch.float64 \n",
      "Using device = cpu\n"
     ]
    }
   ],
   "source": [
    "turbo_m = TurboM(\n",
    "    f=f,  # Handle to objective function\n",
    "    lb=f.lb,  # Numpy array specifying lower bounds\n",
    "    ub=f.ub,  # Numpy array specifying upper bounds\n",
    "    n_init=10,  # Number of initial bounds from an Symmetric Latin hypercube design\n",
    "    max_evals=1000,  # Maximum number of evaluations\n",
    "    n_trust_regions=5,  # Number of trust regions\n",
    "    batch_size=10,  # How large batch size TuRBO uses\n",
    "    verbose=True,  # Print information from each batch\n",
    "    use_ard=True,  # Set to true if you want to use ARD for the GP kernel\n",
    "    max_cholesky_size=2000,  # When we switch from Cholesky to Lanczos\n",
    "    n_training_steps=50,  # Number of steps of ADAM to learn the hypers\n",
    "    min_cuda=1024,  # Run on the CPU for small datasets\n",
    "    device=\"cpu\",  # \"cpu\" or \"cuda\"\n",
    "    dtype=\"float64\",  # float64 or float32\n",
    ")"
   ]
  },
  {
   "cell_type": "markdown",
   "metadata": {},
   "source": [
    "# Run the optimization process"
   ]
  },
  {
   "cell_type": "code",
   "execution_count": 4,
   "metadata": {},
   "outputs": [
    {
     "name": "stdout",
     "output_type": "stream",
     "text": [
      "TR-0 starting from: 25.04\n",
      "TR-1 starting from: 22.54\n",
      "TR-2 starting from: 28.7\n",
      "TR-3 starting from: 16.01\n",
      "TR-4 starting from: 31.19\n",
      "50) New best @ TR-3: 11.71\n",
      "70) New best @ TR-3: 8.903\n",
      "150) New best @ TR-3: 8.442\n",
      "180) New best @ TR-0: 2.928\n",
      "180) New best @ TR-2: 8.193\n",
      "240) New best @ TR-2: 2.058\n",
      "250) New best @ TR-2: 2.011\n",
      "270) New best @ TR-4: 1.779\n",
      "290) New best @ TR-4: 1.468\n",
      "330) New best @ TR-0: 1.093\n",
      "360) New best @ TR-0: 1.041\n",
      "380) New best @ TR-0: 0.6722\n",
      "480) New best @ TR-4: 0.5175\n",
      "510) New best @ TR-4: 0.425\n",
      "520) New best @ TR-4: 0.403\n",
      "540) New best @ TR-4: 0.3274\n",
      "550) New best @ TR-4: 0.3205\n",
      "600) New best @ TR-4: 0.2917\n",
      "610) New best @ TR-4: 0.2525\n",
      "620) New best @ TR-4: 0.197\n",
      "640) New best @ TR-4: 0.1939\n",
      "650) New best @ TR-4: 0.1895\n",
      "660) New best @ TR-4: 0.1497\n",
      "680) New best @ TR-4: 0.1434\n",
      "710) New best @ TR-4: 0.1425\n",
      "730) New best @ TR-4: 0.1183\n",
      "750) New best @ TR-4: 0.1058\n",
      "790) New best @ TR-4: 0.1053\n",
      "800) New best @ TR-4: 0.1003\n",
      "820) New best @ TR-4: 0.09067\n",
      "860) TR-4 converged to: : 0.09067\n",
      "860) TR-4 is restarting from: : 26.96\n",
      "970) TR-0 converged to: : 0.2187\n",
      "970) TR-0 is restarting from: : 15.61\n"
     ]
    }
   ],
   "source": [
    "turbo_m.optimize()"
   ]
  },
  {
   "cell_type": "code",
   "execution_count": null,
   "metadata": {},
   "outputs": [],
   "source": []
  }
 ],
 "metadata": {
  "kernelspec": {
   "display_name": "turbo-O",
   "language": "python",
   "name": "python3"
  },
  "language_info": {
   "codemirror_mode": {
    "name": "ipython",
    "version": 3
   },
   "file_extension": ".py",
   "mimetype": "text/x-python",
   "name": "python",
   "nbconvert_exporter": "python",
   "pygments_lexer": "ipython3",
   "version": "3.10.16"
  }
 },
 "nbformat": 4,
 "nbformat_minor": 2
}
